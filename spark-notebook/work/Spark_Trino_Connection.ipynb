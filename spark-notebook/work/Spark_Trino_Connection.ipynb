{
 "cells": [
  {
   "cell_type": "code",
   "execution_count": 1,
   "id": "ec627579-ff2e-498e-acb8-dd5610d2b7f7",
   "metadata": {},
   "outputs": [],
   "source": [
    "import sys\n",
    "sys.path.append(\"./work/streamify\")\n",
    "\n",
    "from operators.streaming import SparkStreaming\n",
    "import pyspark.sql.functions as F"
   ]
  },
  {
   "cell_type": "code",
   "execution_count": 2,
   "id": "d8c7edb0-7c4a-498f-8841-91224dd28fc7",
   "metadata": {},
   "outputs": [],
   "source": [
    "spark = SparkStreaming.get_instance(app_name=\"Streamify Spark Streaming\")"
   ]
  },
  {
   "cell_type": "code",
   "execution_count": 21,
   "id": "dfe4e862-7d25-4ea4-a2d3-318a913438ae",
   "metadata": {},
   "outputs": [
    {
     "data": {
      "text/html": [
       "\n",
       "            <div>\n",
       "                <p><b>SparkSession - hive</b></p>\n",
       "                \n",
       "        <div>\n",
       "            <p><b>SparkContext</b></p>\n",
       "\n",
       "            <p><a href=\"http://f96e811bbabb:4040\">Spark UI</a></p>\n",
       "\n",
       "            <dl>\n",
       "              <dt>Version</dt>\n",
       "                <dd><code>v3.3.2</code></dd>\n",
       "              <dt>Master</dt>\n",
       "                <dd><code>spark://spark-master:7077</code></dd>\n",
       "              <dt>AppName</dt>\n",
       "                <dd><code>Spark Streaming</code></dd>\n",
       "            </dl>\n",
       "        </div>\n",
       "        \n",
       "            </div>\n",
       "        "
      ],
      "text/plain": [
       "<pyspark.sql.session.SparkSession at 0x7ff973e96520>"
      ]
     },
     "execution_count": 21,
     "metadata": {},
     "output_type": "execute_result"
    }
   ],
   "source": [
    "spark"
   ]
  },
  {
   "cell_type": "markdown",
   "id": "3959a788",
   "metadata": {},
   "source": [
    "# Read data from MinIO"
   ]
  },
  {
   "cell_type": "code",
   "execution_count": 11,
   "id": "492f2947-25c6-4801-9093-5dff03ccd8aa",
   "metadata": {},
   "outputs": [
    {
     "name": "stdout",
     "output_type": "stream",
     "text": [
      "66\n",
      "root\n",
      " |-- rental_id: integer (nullable = true)\n",
      " |-- rental_date: string (nullable = true)\n",
      " |-- inventory_id: integer (nullable = true)\n",
      " |-- customer_id: integer (nullable = true)\n",
      " |-- return_date: string (nullable = true)\n",
      " |-- staff_id: integer (nullable = true)\n",
      " |-- last_update: string (nullable = true)\n",
      " |-- rental_year: integer (nullable = true)\n",
      " |-- rental_month: integer (nullable = true)\n",
      "\n"
     ]
    }
   ],
   "source": [
    "rental_df = (spark.read\n",
    "                    .format(\"delta\")\n",
    "                    .load(\"s3a://lakehouse/streaming/streamify/rental\")\n",
    "                    .dropDuplicates())\n",
    "print(rental_df.count())\n",
    "rental_df.printSchema()"
   ]
  },
  {
   "cell_type": "code",
   "execution_count": 12,
   "id": "dcc38065-0bee-4e96-b68e-4239d1d9393f",
   "metadata": {},
   "outputs": [
    {
     "name": "stdout",
     "output_type": "stream",
     "text": [
      "+---------+-------------------+------------+-----------+-------------------+--------+-------------------+-----------+------------+\n",
      "|rental_id|        rental_date|inventory_id|customer_id|        return_date|staff_id|        last_update|rental_year|rental_month|\n",
      "+---------+-------------------+------------+-----------+-------------------+--------+-------------------+-----------+------------+\n",
      "|   281500|2010-01-03 09:27:25|        2586|        446|2010-01-05 07:42:24|      64|2010-01-02 08:33:44|       2010|           1|\n",
      "|   281483|2010-01-02 07:26:19|        3135|        591|2010-01-07 05:53:43|      75|2010-01-01 10:18:55|       2010|           1|\n",
      "|   281536|2010-01-09 00:38:36|           3|        255|2010-01-13 17:26:34|     115|2010-01-04 10:29:16|       2010|           1|\n",
      "|   281494|2010-01-03 01:29:12|        1229|        312|2010-01-04 00:13:16|      71|2010-01-02 03:04:21|       2010|           1|\n",
      "|   281489|2010-01-02 15:15:09|        2387|        472|2010-01-06 13:17:17|      13|2010-01-01 20:14:03|       2010|           1|\n",
      "+---------+-------------------+------------+-----------+-------------------+--------+-------------------+-----------+------------+\n",
      "only showing top 5 rows\n",
      "\n"
     ]
    }
   ],
   "source": [
    "rental_df.show(5)"
   ]
  },
  {
   "cell_type": "code",
   "execution_count": 3,
   "id": "66c2153e-2cb3-4468-8f1f-c05a5e48b549",
   "metadata": {},
   "outputs": [
    {
     "name": "stdout",
     "output_type": "stream",
     "text": [
      "64\n",
      "root\n",
      " |-- rental_id: integer (nullable = true)\n",
      " |-- payment_date: string (nullable = true)\n",
      " |-- payment_id: integer (nullable = true)\n",
      " |-- customer_id: integer (nullable = true)\n",
      " |-- amount: double (nullable = true)\n",
      " |-- staff_id: integer (nullable = true)\n",
      " |-- payment_year: integer (nullable = true)\n",
      " |-- payment_month: integer (nullable = true)\n",
      "\n"
     ]
    }
   ],
   "source": [
    "payment_df = (spark.read\n",
    "                    .format(\"delta\")\n",
    "                    .load(\"s3a://lakehouse/streaming/streamify/payment\")\n",
    "                    .drop(\"last_update\")\n",
    "                    .dropDuplicates())\n",
    "print(payment_df.count())\n",
    "payment_df.printSchema()"
   ]
  },
  {
   "cell_type": "code",
   "execution_count": 14,
   "id": "7b81d699-1ca2-4d84-a43a-3d14b58d8efb",
   "metadata": {},
   "outputs": [
    {
     "name": "stdout",
     "output_type": "stream",
     "text": [
      "64\n",
      "+---------+-------------------+----------+-----------+------+--------+------------+-------------+-------------------+------------+-----------+-------------------+--------+-------------------+-----------+------------+\n",
      "|rental_id|       payment_date|payment_id|customer_id|amount|staff_id|payment_year|payment_month|        rental_date|inventory_id|customer_id|        return_date|staff_id|        last_update|rental_year|rental_month|\n",
      "+---------+-------------------+----------+-----------+------+--------+------------+-------------+-------------------+------------+-----------+-------------------+--------+-------------------+-----------+------------+\n",
      "|   281500|2010-01-05 07:42:24|     40261|        446|  39.7|      64|        2010|            1|2010-01-03 09:27:25|        2586|        446|2010-01-05 07:42:24|      64|2010-01-02 08:33:44|       2010|           1|\n",
      "|   281483|2010-01-07 05:53:43|     40244|        591|  39.7|      75|        2010|            1|2010-01-02 07:26:19|        3135|        591|2010-01-07 05:53:43|      75|2010-01-01 10:18:55|       2010|           1|\n",
      "|   281536|2010-01-13 17:26:34|     40292|        255|  76.1|     115|        2010|            1|2010-01-09 00:38:36|           3|        255|2010-01-13 17:26:34|     115|2010-01-04 10:29:16|       2010|           1|\n",
      "|   281494|2010-01-04 00:13:16|     40255|        312|  63.9|      71|        2010|            1|2010-01-03 01:29:12|        1229|        312|2010-01-04 00:13:16|      71|2010-01-02 03:04:21|       2010|           1|\n",
      "|   281489|2010-01-06 13:17:17|     40250|        472|  26.3|      13|        2010|            1|2010-01-02 15:15:09|        2387|        472|2010-01-06 13:17:17|      13|2010-01-01 20:14:03|       2010|           1|\n",
      "+---------+-------------------+----------+-----------+------+--------+------------+-------------+-------------------+------------+-----------+-------------------+--------+-------------------+-----------+------------+\n",
      "only showing top 5 rows\n",
      "\n"
     ]
    }
   ],
   "source": [
    "join_df = payment_df.join(rental_df, on=[\"rental_id\"], how=\"inner\")\n",
    "print(join_df.count())\n",
    "join_df.show(5)"
   ]
  },
  {
   "cell_type": "code",
   "execution_count": 6,
   "id": "f0232bc2-27e6-4b19-a750-e7034d52dd58",
   "metadata": {},
   "outputs": [],
   "source": [
    "customer_df = spark.read.csv(\"s3a://lakehouse/csv/customer.csv\", header=True, inferSchema=True, samplingRatio=0.1)\n",
    "address_df = spark.read.csv(\"s3a://lakehouse/csv/address.csv\", header=True, inferSchema=True, samplingRatio=0.1)\n",
    "city_df = spark.read.csv(\"s3a://lakehouse/csv/city.csv\", header=True, inferSchema=True, samplingRatio=0.1)\n",
    "country_df = spark.read.csv(\"s3a://lakehouse/csv/country.csv\", header=True, inferSchema=True, samplingRatio=0.1)"
   ]
  },
  {
   "cell_type": "code",
   "execution_count": 10,
   "id": "ddfaa601-f1b1-427e-99d7-6236160bd525",
   "metadata": {},
   "outputs": [
    {
     "name": "stdout",
     "output_type": "stream",
     "text": [
      "++\n",
      "||\n",
      "++\n",
      "++\n",
      "\n"
     ]
    }
   ],
   "source": [
    "spark.sql(\"CREATE DATABASE streamify\").show()"
   ]
  },
  {
   "cell_type": "code",
   "execution_count": 11,
   "id": "fae844e3-27e5-4c47-a123-9b885f71b267",
   "metadata": {},
   "outputs": [],
   "source": [
    "customer_df.write.format(\"delta\").mode(\"overwrite\").saveAsTable(\"streamify.customer\")\n",
    "address_df.write.format(\"delta\").mode(\"overwrite\").saveAsTable(\"streamify.address\")\n",
    "city_df.write.format(\"delta\").mode(\"overwrite\").saveAsTable(\"streamify.city\")\n",
    "country_df.write.format(\"delta\").mode(\"overwrite\").saveAsTable(\"streamify.country\")"
   ]
  },
  {
   "cell_type": "markdown",
   "id": "9ef5e83c-7694-4b62-9f5e-7f92493ff884",
   "metadata": {},
   "source": [
    "# Synchronize data between MinIO and Trino"
   ]
  },
  {
   "cell_type": "code",
   "execution_count": 28,
   "id": "a4c0bec9-a4cb-4565-b101-f80c295d9da2",
   "metadata": {},
   "outputs": [
    {
     "name": "stdout",
     "output_type": "stream",
     "text": [
      "+---------+------------+-----------+\n",
      "|namespace|   tableName|isTemporary|\n",
      "+---------+------------+-----------+\n",
      "|streamify|     address|      false|\n",
      "|streamify|        city|      false|\n",
      "|streamify|     country|      false|\n",
      "|streamify|    customer|      false|\n",
      "|streamify|hive_payment|      false|\n",
      "+---------+------------+-----------+\n",
      "\n"
     ]
    }
   ],
   "source": [
    "spark.sql(\"USE streamify\")\n",
    "# spark.sql(\"DROP TABLE IF EXISTS delta_payment\")\n",
    "# spark.sql(\"DELETE FROM hive_payment\")\n",
    "spark.sql(\"SHOW TABLES\").show()"
   ]
  },
  {
   "cell_type": "code",
   "execution_count": 32,
   "id": "40e092d7-7e9c-4f00-a604-9d0d77bdcd8b",
   "metadata": {},
   "outputs": [],
   "source": [
    "temp_df = (payment_df.drop(\"payment_month\"))\n",
    "                    # .withColumn(\"amount\", F.round(F.col(\"amount\")*0.5, 2)))"
   ]
  },
  {
   "cell_type": "markdown",
   "id": "ea6af65a-7801-4221-a78f-b5663c13cbb0",
   "metadata": {},
   "source": [
    "## Register Delta table to Hive Metastore"
   ]
  },
  {
   "cell_type": "code",
   "execution_count": 34,
   "id": "74572752-001b-48b2-ab96-f3fa86078f9c",
   "metadata": {},
   "outputs": [
    {
     "data": {
      "text/plain": [
       "128"
      ]
     },
     "execution_count": 34,
     "metadata": {},
     "output_type": "execute_result"
    }
   ],
   "source": [
    "spark.sql(f\"\"\"\n",
    "    CREATE TABLE IF NOT EXISTS streamify.delta_payment (\n",
    "        rental_id integer,\n",
    "        payment_date string,\n",
    "        payment_id integer,\n",
    "        customer_id integer,\n",
    "        amount double,\n",
    "        staff_id integer\n",
    "    )\n",
    "    USING DELTA\n",
    "    PARTITIONED BY(payment_year integer)\n",
    "    LOCATION 's3a://lakehouse/streamify.db/delta_payment'\n",
    "\"\"\")\n",
    "\n",
    "spark.sql(\"SELECT * FROM streamify.delta_payment\").count()\n",
    "# spark.sql(\"DESCRIBE EXTENDED streamify.delta_payment\").show()"
   ]
  },
  {
   "cell_type": "code",
   "execution_count": 33,
   "id": "56526da0-9ad8-44b5-b15d-7abcd6cfecdc",
   "metadata": {},
   "outputs": [],
   "source": [
    "(temp_df.write\n",
    "        .format(\"delta\")\n",
    "        .partitionBy(\"payment_year\")\n",
    "        .option(\"path\", \"s3a://lakehouse/streamify.db/delta_payment\")\n",
    "        .mode(\"append\")\n",
    "        .save())"
   ]
  },
  {
   "cell_type": "markdown",
   "id": "3a43cccf-dc8b-4cda-bc42-584b9486ca47",
   "metadata": {},
   "source": [
    "**How to write streaming data to Delta table**\n",
    "\n",
    "```python\n",
    "# Cấu hình streaming query\n",
    "write_stream = (payment_df.writeStream\n",
    "                        .format(\"delta\")\n",
    "                        .partitionBy(partitioned_col)\n",
    "                        .option(\"checkpointLocation\", checkpoint_path)\n",
    "                        .option(\"path\", storage_path)\n",
    "                        .trigger(processingTime=trigger)\n",
    "                        .outputMode(output_mode)\n",
    "                        .start())\n",
    "```"
   ]
  },
  {
   "cell_type": "markdown",
   "id": "d47f65b8-f9e2-4a8a-9c17-656f7ce80b92",
   "metadata": {},
   "source": [
    "## Register Hive table to Hive Metastore"
   ]
  },
  {
   "cell_type": "code",
   "execution_count": null,
   "id": "dfc82ac5-5244-4e53-81d5-1969bc851c59",
   "metadata": {},
   "outputs": [],
   "source": [
    "(temp_df.write\n",
    "        .mode(\"append\")\n",
    "        .insertInto(\"streamify.hive_payment\"))"
   ]
  },
  {
   "cell_type": "code",
   "execution_count": null,
   "id": "1a956e8f-5e65-46a3-bfe5-1f0b59f79dc4",
   "metadata": {},
   "outputs": [],
   "source": [
    "spark.sql(f\"\"\"\n",
    "    CREATE TABLE IF NOT EXISTS streamify.delta_payment (\n",
    "        rental_id integer,\n",
    "        payment_date string,\n",
    "        payment_id integer,\n",
    "        customer_id integer,\n",
    "        amount double,\n",
    "        staff_id integer\n",
    "    )\n",
    "    PARTITIONED BY(payment_year integer)\n",
    "    LOCATION 's3a://lakehouse/streamify.db/hive_payment'\n",
    "\"\"\")\n",
    "\n",
    "spark.sql(\"SELECT * FROM streamify.hive_payment\").show(5)\n",
    "spark.sql(\"DESCRIBE EXTENDED streamify.hive_payment\").show()"
   ]
  },
  {
   "cell_type": "markdown",
   "id": "1fb90af0-3457-4c9d-98d5-e2da52218718",
   "metadata": {
    "tags": []
   },
   "source": [
    "**How to write streaming data to Hive table**\n",
    "\n",
    "```python\n",
    "def write_to_hive_table(batch_df, batch_id):\n",
    "    # Ghi dữ liệu vào Hive table (append mode)\n",
    "    (batch_df.write\n",
    "            .mode(\"append\")\n",
    "            .insertInto(\"streamify.hive_payment\"))\n",
    "\n",
    "# Cấu hình streaming query\n",
    "write_stream = (payment_df.writeStream\n",
    "                        .foreachBatch(write_to_hive_table)\n",
    "                        .option(\"checkpointLocation\", checkpoint_path)\n",
    "                        .trigger(processingTime=trigger)\n",
    "                        .outputMode(output_mode)\n",
    "                        .start())\n",
    "```"
   ]
  },
  {
   "cell_type": "code",
   "execution_count": null,
   "id": "9cc9a8d0-ec3f-4d7f-8464-5206e1f5e8aa",
   "metadata": {},
   "outputs": [],
   "source": [
    "spark.sql(\"SHOW SCHEMAS FROM hive\")"
   ]
  },
  {
   "cell_type": "code",
   "execution_count": 5,
   "id": "efbfe60e-e60e-4b68-af8a-770635e87359",
   "metadata": {},
   "outputs": [],
   "source": [
    "spark.stop()"
   ]
  }
 ],
 "metadata": {
  "kernelspec": {
   "display_name": "Python 3 (ipykernel)",
   "language": "python",
   "name": "python3"
  },
  "language_info": {
   "codemirror_mode": {
    "name": "ipython",
    "version": 3
   },
   "file_extension": ".py",
   "mimetype": "text/x-python",
   "name": "python",
   "nbconvert_exporter": "python",
   "pygments_lexer": "ipython3",
   "version": "3.9.13"
  }
 },
 "nbformat": 4,
 "nbformat_minor": 5
}
